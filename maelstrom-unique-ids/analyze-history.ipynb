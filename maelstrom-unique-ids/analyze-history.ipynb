{
 "cells": [
  {
   "cell_type": "code",
   "execution_count": 31,
   "metadata": {},
   "outputs": [
    {
     "name": "stdout",
     "output_type": "stream",
     "text": [
      "Num lines:  8274\n",
      "Parsed:  8274\n",
      "=============\n",
      "DataFrame: \n"
     ]
    },
    {
     "data": {
      "text/html": [
       "<div>\n",
       "<style scoped>\n",
       "    .dataframe tbody tr th:only-of-type {\n",
       "        vertical-align: middle;\n",
       "    }\n",
       "\n",
       "    .dataframe tbody tr th {\n",
       "        vertical-align: top;\n",
       "    }\n",
       "\n",
       "    .dataframe thead th {\n",
       "        text-align: right;\n",
       "    }\n",
       "</style>\n",
       "<table border=\"1\" class=\"dataframe\">\n",
       "  <thead>\n",
       "    <tr style=\"text-align: right;\">\n",
       "      <th></th>\n",
       "      <th>node_id</th>\n",
       "      <th>status</th>\n",
       "      <th>operation</th>\n",
       "      <th>value</th>\n",
       "    </tr>\n",
       "  </thead>\n",
       "  <tbody>\n",
       "    <tr>\n",
       "      <th>0</th>\n",
       "      <td>0</td>\n",
       "      <td>invoke</td>\n",
       "      <td>generate</td>\n",
       "      <td>NaN</td>\n",
       "    </tr>\n",
       "    <tr>\n",
       "      <th>1</th>\n",
       "      <td>2</td>\n",
       "      <td>invoke</td>\n",
       "      <td>generate</td>\n",
       "      <td>NaN</td>\n",
       "    </tr>\n",
       "    <tr>\n",
       "      <th>2</th>\n",
       "      <td>0</td>\n",
       "      <td>ok</td>\n",
       "      <td>generate</td>\n",
       "      <td>0.0</td>\n",
       "    </tr>\n",
       "    <tr>\n",
       "      <th>3</th>\n",
       "      <td>2</td>\n",
       "      <td>ok</td>\n",
       "      <td>generate</td>\n",
       "      <td>0.0</td>\n",
       "    </tr>\n",
       "    <tr>\n",
       "      <th>4</th>\n",
       "      <td>0</td>\n",
       "      <td>invoke</td>\n",
       "      <td>generate</td>\n",
       "      <td>NaN</td>\n",
       "    </tr>\n",
       "  </tbody>\n",
       "</table>\n",
       "</div>"
      ],
      "text/plain": [
       "   node_id  status operation  value\n",
       "0        0  invoke  generate    NaN\n",
       "1        2  invoke  generate    NaN\n",
       "2        0      ok  generate    0.0\n",
       "3        2      ok  generate    0.0\n",
       "4        0  invoke  generate    NaN"
      ]
     },
     "metadata": {},
     "output_type": "display_data"
    }
   ],
   "source": [
    "import pandas as pd\n",
    "\n",
    "with open('history.txt', 'r') as f:\n",
    "    lines = f.readlines()\n",
    "\n",
    "print('Num lines: ', len(lines))\n",
    "\n",
    "parsed_data = []\n",
    "for line in lines:\n",
    "    parts = line.split('\\t')\n",
    "\n",
    "\n",
    "    if len(parts) < 4:\n",
    "        print('bad line= ', line)\n",
    "        continue  # skip bad or incomplete lines\n",
    "\n",
    "    node_id = int(parts[0])\n",
    "    status = parts[1].lstrip(':')\n",
    "    operation = parts[2].lstrip(':')\n",
    "    value = parts[3]\n",
    "\n",
    "    if value:\n",
    "        value = value.strip()\n",
    "\n",
    "    value = None if value == 'nil' else int(value)\n",
    "\n",
    "    parsed_data.append({\n",
    "        'node_id': node_id,\n",
    "        'status': status,\n",
    "        'operation': operation,\n",
    "        'value': value\n",
    "    })\n",
    "\n",
    "print('Parsed: ', len(parsed_data))\n",
    "\n",
    "df = pd.DataFrame(parsed_data)\n",
    "print('=============')\n",
    "print('DataFrame: ')\n",
    "display(df.head())"
   ]
  },
  {
   "cell_type": "code",
   "execution_count": 33,
   "metadata": {},
   "outputs": [
    {
     "name": "stdout",
     "output_type": "stream",
     "text": [
      "Len without NaN 4137\n",
      "Empty DataFrame\n",
      "Columns: [node_id, status, operation, value]\n",
      "Index: []\n"
     ]
    }
   ],
   "source": [
    "# First, drop rows where 'value' is NaN, because NaN != NaN\n",
    "df_no_nan = df.dropna(subset=['value'])\n",
    "\n",
    "print('Len without NaN', len(df_no_nan))\n",
    "\n",
    "# Then, find duplicates based on both 'node_id' and 'value'\n",
    "duplicates = df_no_nan[df_no_nan.duplicated(subset=['node_id', 'value'], keep=False)]\n",
    "\n",
    "print(duplicates)"
   ]
  },
  {
   "cell_type": "code",
   "execution_count": null,
   "metadata": {},
   "outputs": [],
   "source": []
  }
 ],
 "metadata": {
  "kernelspec": {
   "display_name": "Python 3",
   "language": "python",
   "name": "python3"
  },
  "language_info": {
   "codemirror_mode": {
    "name": "ipython",
    "version": 3
   },
   "file_extension": ".py",
   "mimetype": "text/x-python",
   "name": "python",
   "nbconvert_exporter": "python",
   "pygments_lexer": "ipython3",
   "version": "3.9.6"
  },
  "orig_nbformat": 4
 },
 "nbformat": 4,
 "nbformat_minor": 2
}
